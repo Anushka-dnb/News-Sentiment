{
 "cells": [
  {
   "cell_type": "code",
   "execution_count": 1,
   "metadata": {},
   "outputs": [
    {
     "name": "stderr",
     "output_type": "stream",
     "text": [
      "C:\\Users\\dasmajumdarb\\AppData\\Roaming\\Python\\Python37\\site-packages\\pandas\\compat\\_optional.py:138: UserWarning: Pandas requires version '2.7.0' or newer of 'numexpr' (version '2.6.9' currently installed).\n",
      "  warnings.warn(msg, UserWarning)\n"
     ]
    },
    {
     "name": "stdout",
     "output_type": "stream",
     "text": [
      "Article\n",
      "Article\n",
      "Article\n",
      "Article\n",
      "Article\n",
      "Article\n",
      "Without HTTP - https://economictimes.indiatimes.com/markets/stocks/news/hdfc-life-rises-5-on-block-deal-in-counter/articleshow/94168057.cms\n",
      "Article\n",
      "Article\n",
      "Article\n",
      "Without HTTP - https://economictimes.indiatimes.com/news/economy/indicators/soft-landing-for-india-means-fast-if-not-fastest-growth/articleshow/94166181.cms\n",
      "Article\n",
      "Without HTTP - https://economictimes.indiatimes.com/industry/healthcare/biotech/pharmaceuticals/several-antibiotics-other-drugs-may-get-cheaper/articleshow/94161118.cms\n",
      "Article\n",
      "Without HTTP - https://economictimes.indiatimes.com/markets/stocks/news/trading-guide-2-stock-ideas-from-experts-for-up-to-11-short-term-gains/articleshow/94165771.cms\n",
      "Without HTTP - https://economictimes.indiatimes.com/markets/stocks/news/trading-guide-2-stock-ideas-from-experts-for-up-to-11-short-term-gains/articleshow/94165771.cms\n",
      "Article\n",
      "Article\n",
      "Article\n",
      "Article\n",
      "Article\n",
      "Article\n",
      "Article\n",
      "Article\n",
      "Article\n",
      "Article\n",
      "Without HTTP - https://economictimes.indiatimes.com/news/economy/foreign-trade/agricultural-processed-food-products-exports-up-30-to-9-6-billion-in-apr-july/articleshow/94158619.cms\n",
      "Without HTTP - https://economictimes.indiatimes.com/news/economy/foreign-trade/agricultural-processed-food-products-exports-up-30-to-9-6-billion-in-apr-july/articleshow/94158619.cms\n",
      "Article\n",
      "Article\n",
      "Article\n",
      "Article\n",
      "Article\n",
      "Article\n",
      "Article\n",
      "Article\n",
      "Article\n",
      "Article\n",
      "Article\n",
      "Article\n",
      "Article\n",
      "Article\n",
      "Article\n",
      "Article\n",
      "Article\n",
      "Article\n",
      "Article\n",
      "Article\n",
      "Article\n",
      "Article\n",
      "Article\n",
      "Article\n",
      "Without HTTP - https://economictimes.indiatimes.com/markets/stocks/news/big-movers-on-d-st-what-should-investors-do-with-navin-fluorine-hindustan-aeronautics-and-lemon-tree/articleshow/94165338.cms\n",
      "Without HTTP - https://economictimes.indiatimes.com/markets/stocks/news/big-movers-on-d-st-what-should-investors-do-with-navin-fluorine-hindustan-aeronautics-and-lemon-tree/articleshow/94165338.cms\n",
      "Without HTTP - https://economictimes.indiatimes.com/markets/stocks/news/big-movers-on-d-st-what-should-investors-do-with-navin-fluorine-hindustan-aeronautics-and-lemon-tree/articleshow/94165338.cms\n",
      "Article\n",
      "Article\n",
      "Article\n",
      "Article\n",
      "Article\n",
      "Article\n",
      "Article\n",
      "Article\n",
      "Article\n",
      "Article\n",
      "Article\n",
      "Article\n",
      "Article\n",
      "Article\n",
      "Article\n",
      "Article\n",
      "Article\n",
      "Article\n",
      "Article\n",
      "Article\n",
      "Article\n",
      "Article\n",
      "Article\n",
      "Article\n",
      "Article\n",
      "Without HTTP - https://economictimes.indiatimes.com/industry/services/property-/-cstruction/new-construction-industry-coalition-aims-to-rapidly-accelerate-decarbonisation-of-the-built-environment-in-india/articleshow/94019857.cms?utm_source=Desktop&utm_medium=HP_ETGreatReads&utm_campaign=DP\n",
      "Article\n",
      "Article\n",
      "Article\n",
      "Article\n",
      "Article\n",
      "Article\n",
      "Article\n",
      "Article\n",
      "Article\n",
      "Article\n",
      "Article\n",
      "Article\n",
      "Article\n",
      "Article\n",
      "Article\n",
      "Article\n",
      "Article\n",
      "Article\n",
      "Article\n",
      "Article\n",
      "Article\n",
      "Article\n",
      "Article\n",
      "Article\n",
      "Article\n",
      "Article\n",
      "Article\n",
      "Article\n",
      "Without HTTP - https://economictimes.indiatimes.com/industry/transportation/airlines-/-aviation/pilots-salaries-at-akasa-air-head-skywards/articleshow/94138060.cms\n",
      "Article\n",
      "Article\n",
      "Article\n",
      "Article\n",
      "Article\n",
      "Article\n",
      "Article\n",
      "Article\n",
      "Article\n",
      "Article\n",
      "Article\n",
      "Without HTTP - https://economictimes.indiatimes.com/news/economy/infrastructure/installation-of-traffic-management-systems-on-highways-is-a-huge-opportunity-nitin-gadkari/articleshow/94151187.cms\n",
      "Article\n",
      "Article\n",
      "Article\n",
      "Article\n",
      "Article\n",
      "Article\n",
      "Article\n",
      "Without HTTP - https://economictimes.indiatimes.com/markets/stocks/news/ace-investor-rakesh-jhunjhunwala-passes-away-at-62/articleshow/93551064.cms\n",
      "Without HTTP - https://economictimes.indiatimes.com/markets/stocks/news/dalal-street-week-ahead-nifty-must-take-out-17800-level-for-any-meaningful-rally/articleshow/93542523.cms\n",
      "Without HTTP - https://economictimes.indiatimes.com/industry/banking/finance/banking/anshu-jain-former-co-ceo-of-deutsche-bank-passes-away-after-five-year-cancer-battle/articleshow/93544494.cms\n",
      "Without HTTP - https://economictimes.indiatimes.com/markets/stocks/news/rakesh-jhunjhunwala-holdings-32-stocks-gave-big-bull-a-rs-32000-crore-portfolio/articleshow/93554791.cms\n",
      "Without HTTP - https://economictimes.indiatimes.com/industry/energy/oil-gas/us-says-india-hid-russian-origin-of-fuel-shipped-to-us/articleshow/93541112.cms\n",
      "Without HTTP - https://economictimes.indiatimes.com/news/economy/policy/what-india-economy-will-achieve-in-the-next-five-years/articleshow/93547192.cms\n",
      "Without HTTP - https://economictimes.indiatimes.com/industry/cons-products/garments-/-textiles/trident-founder-rajinder-gupta-to-step-down/articleshow/93461375.cms\n",
      "Without HTTP - https://economictimes.indiatimes.com/news/economy/agriculture/rice-acreage-down-13-till-aug-5-due-to-rain-shortfall/articleshow/93439236.cms\n",
      "Without HTTP - https://economictimes.indiatimes.com/news/economy/agriculture/rice-acreage-down-13-till-aug-5-due-to-rain-shortfall/articleshow/93439236.cms\n",
      "Without HTTP - https://economictimes.indiatimes.com/markets/stocks/news/corporate-radar-coal-india-ioc-to-turn-ex-dividend-apollo-hospitals-q1-results-agms-and-more/articleshow/93490735.cms\n",
      "Without HTTP - https://economictimes.indiatimes.com/small-biz/trade/exports/insights/low-growth-high-inflation-world-faces-increasingly-challenging-global-environment/articleshow/93551847.cms\n",
      "Without HTTP - https://economictimes.indiatimes.com/markets/stocks/news/us-inflation-jumped-7-5-in-the-past-year-a-40-year-high/articleshow/89484170.cms\n"
     ]
    }
   ],
   "source": [
    "import pandas as pd\n",
    "import newspaper\n",
    "from newspaper import Article\n",
    "import time\n",
    "from time import sleep\n",
    "from datetime import date\n",
    "import requests\n",
    "from bs4 import BeautifulSoup\n",
    "import warnings\n",
    "warnings.filterwarnings('ignore')\n",
    "\n",
    "start_time = time.time()\n",
    "dte=date.today()\n",
    "dte1=dte.strftime(\"%d%m%Y\")\n",
    "date=dte.strftime(\"%d-%m-%Y\")\n",
    "\n",
    "# output file path\n",
    "path=\"C:/Users/dasmajumdarb/OneDrive - Dun and Bradstreet/Documents/BDM/GDO/NewsandSentimentsAnalysis_Aug2022.xlsx\"\n",
    "wb=pd.ExcelWriter(path)\n",
    "cols = ['Date', 'URL', 'Category', 'Headline', 'News']\n",
    "datalists = dict()\n",
    "for item in cols:\n",
    "    datalists[item] = []\n",
    "\n",
    "# News paper link    \n",
    "url=\"https://economictimes.indiatimes.com\"\n",
    "\n",
    "try:\n",
    "    pg=requests.get(url, verify=False)\n",
    "    soup=BeautifulSoup(pg.content, 'lxml')\n",
    "    prtify=soup.prettify()\n",
    "    link=soup.find_all(\"a\")\n",
    "    for lnk in link:\n",
    "        href=lnk.get('href')\n",
    "        if href is None:\n",
    "            continue\n",
    "        if \"/articleshow/\" in href:\n",
    "            if \"/hindi/\" not in href:\n",
    "                if \"/news/economy/\" in href:\n",
    "                    news=href\n",
    "                elif \"/markets/\" in href:\n",
    "                    if \"/expert-view/\" not in href:\n",
    "                        news=href\n",
    "                elif \"/Small-biz/\" in href:\n",
    "                    news=href\n",
    "                elif \"/industry/\" in href:\n",
    "                    if \"entertainment\" not in href:\n",
    "                        if \"electronics\" not in href:\n",
    "                            if \"/advertising/\" not in href:\n",
    "                                news=href\n",
    "                elif \"/tech/ites/\" in href:\n",
    "                    news=href\n",
    "                elif \"/small-biz/\" in href:\n",
    "                    news=href\n",
    "                else:\n",
    "                    continue\n",
    "                if \"https\" not in news:\n",
    "                    news=url+news\n",
    "                    #print('URL-',news)\n",
    "                    # Appending data into datalists\n",
    "                    datalists['URL'].append(news)\n",
    "                    datalists['Date'].append(date)\n",
    "                    cat1=news.split(\".com\")[1]\n",
    "                    cat2=cat1.split(\"/\")\n",
    "                    cat_fin=cat2[1]+\"/\"+cat2[2]#+\"/\"+cat2[3]print(\"Category: \"+cat_fin)\n",
    "                    # Appending data into datalists\n",
    "                    datalists['Category'].append(cat_fin)\n",
    "                    #print('Category-',cat_fin)\n",
    "                    arti=Article(news)\n",
    "                    try:\n",
    "                        pg2=requests.get(news, verify=False)\n",
    "                        soup2=BeautifulSoup(pg2.content, 'lxml')\n",
    "                        prtify2=soup2.prettify()\n",
    "                        head=prtify2.split('\"headline\": \"')[1]\n",
    "                        headline=head.split('\"description\":')[0]\n",
    "                        headline=headline.rstrip().strip('\",')\n",
    "                        #print('headline')\n",
    "                        datalists['Headline'].append(headline)\n",
    "                        arti=prtify2.split('\"articleBody\":\"')[1]\n",
    "                        txt=arti.split('\"image\": {')[0]\n",
    "                        txt=txt.rstrip().strip('\",')\n",
    "                        # Appending data into datalists\n",
    "                        datalists['News'].append(txt)\n",
    "                        print('Article')\n",
    "                    except:\n",
    "                        pass\n",
    "                else:\n",
    "                    print('Without HTTP -',news)\n",
    "except:\n",
    "    pass\n",
    "\n",
    "# Add here Second URL fro scrapping\n",
    "\n"
   ]
  },
  {
   "cell_type": "code",
   "execution_count": 2,
   "metadata": {},
   "outputs": [
    {
     "name": "stdout",
     "output_type": "stream",
     "text": [
      "--- 2151.6371533870697 seconds ---\n"
     ]
    }
   ],
   "source": [
    "\n",
    "## Final Block of code - keep as it is\n",
    "data = pd.DataFrame.from_dict(datalists, orient='index')\n",
    "data = data.transpose()\n",
    "data.to_excel(wb, sheet_name=\"Sheet1\", index=False)\n",
    "wb.save()\n",
    "print(\"--- %s seconds ---\" % (time.time() - start_time))\n"
   ]
  },
  {
   "cell_type": "code",
   "execution_count": 3,
   "metadata": {},
   "outputs": [
    {
     "data": {
      "text/plain": [
       "(4660, 17)"
      ]
     },
     "execution_count": 3,
     "metadata": {},
     "output_type": "execute_result"
    }
   ],
   "source": [
    "import pandas as pd\n",
    "    \n",
    "df1 = pd.read_excel('C:/Users/dasmajumdarb/OneDrive - Dun and Bradstreet/Documents/BDM/GDO/May2022/NewsAndSentiment_01062022.xlsx')\n",
    "\n",
    "df1.shape"
   ]
  },
  {
   "cell_type": "code",
   "execution_count": 9,
   "metadata": {},
   "outputs": [
    {
     "name": "stdout",
     "output_type": "stream",
     "text": [
      "Requirement already satisfied: spacy in c:\\users\\dasmajumdarb\\appdata\\roaming\\python\\python37\\site-packages (3.1.3)\n",
      "Requirement already satisfied: catalogue<2.1.0,>=2.0.6 in c:\\users\\dasmajumdarb\\appdata\\roaming\\python\\python37\\site-packages (from spacy) (2.0.6)\n",
      "Requirement already satisfied: packaging>=20.0 in c:\\users\\dasmajumdarb\\appdata\\roaming\\python\\python37\\site-packages (from spacy) (21.0)\n",
      "Requirement already satisfied: pydantic!=1.8,!=1.8.1,<1.9.0,>=1.7.4 in c:\\users\\dasmajumdarb\\appdata\\roaming\\python\\python37\\site-packages (from spacy) (1.8.2)\n",
      "Requirement already satisfied: setuptools in c:\\programdata\\anaconda3\\lib\\site-packages (from spacy) (41.0.1)\n",
      "Requirement already satisfied: tqdm<5.0.0,>=4.38.0 in c:\\users\\dasmajumdarb\\appdata\\roaming\\python\\python37\\site-packages (from spacy) (4.62.3)\n",
      "Requirement already satisfied: spacy-legacy<3.1.0,>=3.0.8 in c:\\programdata\\anaconda3\\lib\\site-packages (from spacy) (3.0.8)\n",
      "Requirement already satisfied: jinja2 in c:\\programdata\\anaconda3\\lib\\site-packages (from spacy) (2.10.1)\n",
      "Requirement already satisfied: preshed<3.1.0,>=3.0.2 in c:\\programdata\\anaconda3\\lib\\site-packages (from spacy) (3.0.6)\n",
      "Requirement already satisfied: srsly<3.0.0,>=2.4.1 in c:\\users\\dasmajumdarb\\appdata\\roaming\\python\\python37\\site-packages (from spacy) (2.4.2)\n",
      "Requirement already satisfied: thinc<8.1.0,>=8.0.9 in c:\\users\\dasmajumdarb\\appdata\\roaming\\python\\python37\\site-packages (from spacy) (8.0.11)\n",
      "Requirement already satisfied: blis<0.8.0,>=0.4.0 in c:\\programdata\\anaconda3\\lib\\site-packages (from spacy) (0.7.5)\n",
      "Requirement already satisfied: murmurhash<1.1.0,>=0.28.0 in c:\\programdata\\anaconda3\\lib\\site-packages (from spacy) (1.0.6)\n",
      "Requirement already satisfied: cymem<2.1.0,>=2.0.2 in c:\\programdata\\anaconda3\\lib\\site-packages (from spacy) (2.0.6)\n",
      "Requirement already satisfied: pathy>=0.3.5 in c:\\users\\dasmajumdarb\\appdata\\roaming\\python\\python37\\site-packages (from spacy) (0.6.1)\n",
      "Requirement already satisfied: numpy>=1.15.0 in c:\\users\\dasmajumdarb\\appdata\\roaming\\python\\python37\\site-packages (from spacy) (1.21.3)\n",
      "Requirement already satisfied: wasabi<1.1.0,>=0.8.1 in c:\\programdata\\anaconda3\\lib\\site-packages (from spacy) (0.8.2)\n",
      "Requirement already satisfied: typer<0.5.0,>=0.3.0 in c:\\users\\dasmajumdarb\\appdata\\roaming\\python\\python37\\site-packages (from spacy) (0.4.0)\n",
      "Requirement already satisfied: requests<3.0.0,>=2.13.0 in c:\\programdata\\anaconda3\\lib\\site-packages (from spacy) (2.22.0)\n",
      "Requirement already satisfied: typing-extensions<4.0.0.0,>=3.7.4; python_version < \"3.8\" in c:\\users\\dasmajumdarb\\appdata\\roaming\\python\\python37\\site-packages (from spacy) (3.10.0.2)\n",
      "Requirement already satisfied: zipp>=0.5; python_version < \"3.8\" in c:\\programdata\\anaconda3\\lib\\site-packages (from catalogue<2.1.0,>=2.0.6->spacy) (0.5.1)\n",
      "Requirement already satisfied: pyparsing>=2.0.2 in c:\\users\\dasmajumdarb\\appdata\\roaming\\python\\python37\\site-packages (from packaging>=20.0->spacy) (3.0.6)\n",
      "Requirement already satisfied: colorama; platform_system == \"Windows\" in c:\\programdata\\anaconda3\\lib\\site-packages (from tqdm<5.0.0,>=4.38.0->spacy) (0.4.1)\n",
      "Requirement already satisfied: MarkupSafe>=0.23 in c:\\users\\dasmajumdarb\\appdata\\roaming\\python\\python37\\site-packages (from jinja2->spacy) (2.1.1)\n",
      "Requirement already satisfied: smart-open<6.0.0,>=5.0.0 in c:\\users\\dasmajumdarb\\appdata\\roaming\\python\\python37\\site-packages (from pathy>=0.3.5->spacy) (5.2.1)\n",
      "Requirement already satisfied: click<9.0.0,>=7.1.1 in c:\\users\\dasmajumdarb\\appdata\\roaming\\python\\python37\\site-packages (from typer<0.5.0,>=0.3.0->spacy) (8.0.3)\n",
      "Requirement already satisfied: idna<2.9,>=2.5 in c:\\programdata\\anaconda3\\lib\\site-packages (from requests<3.0.0,>=2.13.0->spacy) (2.8)\n",
      "Requirement already satisfied: urllib3!=1.25.0,!=1.25.1,<1.26,>=1.21.1 in c:\\programdata\\anaconda3\\lib\\site-packages (from requests<3.0.0,>=2.13.0->spacy) (1.24.2)\n",
      "Requirement already satisfied: chardet<3.1.0,>=3.0.2 in c:\\programdata\\anaconda3\\lib\\site-packages (from requests<3.0.0,>=2.13.0->spacy) (3.0.4)\n",
      "Requirement already satisfied: certifi>=2017.4.17 in c:\\programdata\\anaconda3\\lib\\site-packages (from requests<3.0.0,>=2.13.0->spacy) (2019.6.16)\n",
      "Requirement already satisfied: importlib-metadata; python_version < \"3.8\" in c:\\users\\dasmajumdarb\\appdata\\roaming\\python\\python37\\site-packages (from click<9.0.0,>=7.1.1->typer<0.5.0,>=0.3.0->spacy) (4.12.0)\n"
     ]
    }
   ],
   "source": [
    "!pip install spacy"
   ]
  },
  {
   "cell_type": "code",
   "execution_count": 10,
   "metadata": {},
   "outputs": [
    {
     "name": "stdout",
     "output_type": "stream",
     "text": [
      "['would', 'its', 'nine', 'beyond', 'a', 'by', 'after', 'ca', 'became', 'becoming', 'or', 'several', 'others', 'without', 'part', 'hereby', 'whose', 'thereby', 'see', 'seemed', 'into', 'than', 'thereupon', 'whoever', 'together', 'less', 'own', 'most', 'rather', 'whereafter', 'nevertheless', 'meanwhile', 'out', '’re', 'name', 'used', 'unless', 'eleven', 'now', 'your', 'though', 'to', 'indeed', 'seem', 'itself', 'which', 'me', 'beside', 'thence', 'already', 'still', 'yours', 'being', 'throughout', \"'d\", 'noone', 'during', 'the', 'therein', 'whether', 'sometimes', '’ve', 'nobody', 'not', 'anything', 'neither', 'call', 'and', 'are', 'when', 'behind', 'per', 'nowhere', 'our', 'i', 'herself', 'latterly', 'hereafter', 'last', 'otherwise', 'everywhere', 'nor', 'latter', 'thereafter', 'may', 'around', 'serious', 'almost', 'therefore', 'first', 'other', \"'ve\", 'however', 'of', 'off', 'along', 'all', 'afterwards', 'within', 'anywhere', 'been', 'in', 'could', '‘ll', 'there', 'had', 'empty', 'fifteen', 'it', 'only', 'really', 'did', 'no', '‘ve', '’d', '‘d', 'third', 'while', 'on', 'n‘t', 'upon', 'same', 'formerly', 'becomes', 'made', 'wherever', 'namely', 'against', 'how', 'get', 'at', 'their', 'keep', 'full', 'more', 'eight', 'over', 'fifty', 'somewhere', 'sixty', 'any', 'say', 'themselves', 'put', 'except', 'due', 'must', 'quite', 'each', 'if', 'has', 'toward', '‘m', 'down', \"'ll\", '‘s', 'further', 'alone', 'mostly', 'take', 'hereupon', 'via', 'perhaps', 'mine', 'anyway', '’m', 'were', 'thus', 'sometime', '’ll', 'become', '‘re', 'this', 'before', 'both', 'anyhow', 'done', 'he', 'show', 'between', 'you', 'next', 'might', 'yourselves', \"'s\", 'ever', 'six', 're', 'here', 'ten', 'herein', 'hence', 'hundred', 'yet', 'forty', 'an', 'also', 'amount', 'does', 'whereas', 'one', 'twelve', 'myself', \"n't\", 'back', 'few', 'side', 'go', 'them', 'whence', 'just', 'about', 'former', 'everything', 'until', 'should', 'often', 'even', 'various', 'three', 'where', 'is', 'from', 'enough', 'then', 'was', 'top', 'everyone', 'four', 'my', 'either', 'regarding', 'seeming', 'well', 'many', 'ours', 'moreover', 'his', 'yourself', 'below', 'another', 'him', 'none', 'those', 'since', 'wherein', 'whatever', 'do', 'himself', 'cannot', 'under', 'please', 'up', 'some', 'that', 'whither', 'above', 'seems', 'elsewhere', 'whole', 'they', 'towards', 'with', 'move', 'make', 'these', '’s', 'although', 'ourselves', 'much', 'beforehand', 'whereupon', 'five', 'have', 'will', 'doing', 'for', 'else', 'something', 'thru', 'we', 'be', 'too', 'besides', 'hers', 'least', 'she', 'us', 'amongst', 'using', 'very', 'always', 'through', 'two', 'who', 'as', 'nothing', 'twenty', 'bottom', 'again', 'once', 'whom', 'whenever', 'whereby', 'onto', \"'m\", 'front', 'can', 'never', 'am', 'what', 'but', 'every', 'n’t', 'so', \"'re\", 'her', 'someone', 'why', 'such', 'because', 'anyone', 'give', 'somehow', 'among', 'across']\n"
     ]
    }
   ],
   "source": [
    "import spacy\n",
    "import en_core_web_sm\n",
    "from  spacy.lang.en.stop_words import STOP_WORDS\n",
    "nlp = en_core_web_sm.load()\n",
    "#nlp = spacy.load('en')\n",
    "\n",
    "# To build a list of stop words for filtering\n",
    "stopwords = list(STOP_WORDS)\n",
    "print(stopwords)"
   ]
  },
  {
   "cell_type": "code",
   "execution_count": 11,
   "metadata": {},
   "outputs": [
    {
     "data": {
      "text/plain": [
       "<spacy.tokenizer.Tokenizer at 0x1cecbb429d8>"
      ]
     },
     "execution_count": 11,
     "metadata": {},
     "output_type": "execute_result"
    }
   ],
   "source": [
    "import string\n",
    "punctuations = string.punctuation\n",
    "# Creating a Spacy Parser\n",
    "from spacy.lang.en import English\n",
    "from spacy.tokenizer import Tokenizer\n",
    "#parser = spacy.load('en',disable=['ner','parser','tagger'])\n",
    "parser = English()\n",
    "# Create a Tokenizer with the default settings for English\n",
    "# including punctuation rules and exceptions\n",
    "tokenizer = parser.tokenizer\n",
    "tokenizer"
   ]
  },
  {
   "cell_type": "code",
   "execution_count": 12,
   "metadata": {},
   "outputs": [],
   "source": [
    "parser = spacy.load(\"en_core_web_sm\")"
   ]
  },
  {
   "cell_type": "code",
   "execution_count": 13,
   "metadata": {},
   "outputs": [],
   "source": [
    "#sentence= df['News']\n",
    "def spacy_tokenizer(sentence):\n",
    "    mytokens = parser(sentence)\n",
    "    mytokens = [ word.lemma_.lower().strip() if word.lemma_ != \"-PRON-\" else word.lower_ for word in mytokens ]\n",
    "    mytokens = [ word for word in mytokens if word not in stopwords and word not in punctuations ]\n",
    "    return mytokens"
   ]
  },
  {
   "cell_type": "code",
   "execution_count": 14,
   "metadata": {},
   "outputs": [
    {
     "name": "stderr",
     "output_type": "stream",
     "text": [
      "C:\\ProgramData\\Anaconda3\\lib\\site-packages\\sklearn\\feature_extraction\\image.py:167: DeprecationWarning: `np.int` is a deprecated alias for the builtin `int`. To silence this warning, use `int` by itself. Doing this will not modify any behavior and is safe. When replacing `np.int`, you may wish to use e.g. `np.int64` or `np.int32` to specify the precision. If you wish to review your current use, check the release note link for additional information.\n",
      "Deprecated in NumPy 1.20; for more details and guidance: https://numpy.org/devdocs/release/1.20.0-notes.html#deprecations\n",
      "  dtype=np.int):\n",
      "C:\\ProgramData\\Anaconda3\\lib\\site-packages\\sklearn\\linear_model\\least_angle.py:30: DeprecationWarning: `np.float` is a deprecated alias for the builtin `float`. To silence this warning, use `float` by itself. Doing this will not modify any behavior and is safe. If you specifically wanted the numpy scalar type, use `np.float64` here.\n",
      "Deprecated in NumPy 1.20; for more details and guidance: https://numpy.org/devdocs/release/1.20.0-notes.html#deprecations\n",
      "  method='lar', copy_X=True, eps=np.finfo(np.float).eps,\n",
      "C:\\ProgramData\\Anaconda3\\lib\\site-packages\\sklearn\\linear_model\\least_angle.py:167: DeprecationWarning: `np.float` is a deprecated alias for the builtin `float`. To silence this warning, use `float` by itself. Doing this will not modify any behavior and is safe. If you specifically wanted the numpy scalar type, use `np.float64` here.\n",
      "Deprecated in NumPy 1.20; for more details and guidance: https://numpy.org/devdocs/release/1.20.0-notes.html#deprecations\n",
      "  method='lar', copy_X=True, eps=np.finfo(np.float).eps,\n",
      "C:\\ProgramData\\Anaconda3\\lib\\site-packages\\sklearn\\linear_model\\least_angle.py:284: DeprecationWarning: `np.float` is a deprecated alias for the builtin `float`. To silence this warning, use `float` by itself. Doing this will not modify any behavior and is safe. If you specifically wanted the numpy scalar type, use `np.float64` here.\n",
      "Deprecated in NumPy 1.20; for more details and guidance: https://numpy.org/devdocs/release/1.20.0-notes.html#deprecations\n",
      "  eps=np.finfo(np.float).eps, copy_Gram=True, verbose=0,\n",
      "C:\\ProgramData\\Anaconda3\\lib\\site-packages\\sklearn\\linear_model\\least_angle.py:862: DeprecationWarning: `np.float` is a deprecated alias for the builtin `float`. To silence this warning, use `float` by itself. Doing this will not modify any behavior and is safe. If you specifically wanted the numpy scalar type, use `np.float64` here.\n",
      "Deprecated in NumPy 1.20; for more details and guidance: https://numpy.org/devdocs/release/1.20.0-notes.html#deprecations\n",
      "  eps=np.finfo(np.float).eps, copy_X=True, fit_path=True,\n",
      "C:\\ProgramData\\Anaconda3\\lib\\site-packages\\sklearn\\linear_model\\least_angle.py:1101: DeprecationWarning: `np.float` is a deprecated alias for the builtin `float`. To silence this warning, use `float` by itself. Doing this will not modify any behavior and is safe. If you specifically wanted the numpy scalar type, use `np.float64` here.\n",
      "Deprecated in NumPy 1.20; for more details and guidance: https://numpy.org/devdocs/release/1.20.0-notes.html#deprecations\n",
      "  eps=np.finfo(np.float).eps, copy_X=True, fit_path=True,\n",
      "C:\\ProgramData\\Anaconda3\\lib\\site-packages\\sklearn\\linear_model\\least_angle.py:1127: DeprecationWarning: `np.float` is a deprecated alias for the builtin `float`. To silence this warning, use `float` by itself. Doing this will not modify any behavior and is safe. If you specifically wanted the numpy scalar type, use `np.float64` here.\n",
      "Deprecated in NumPy 1.20; for more details and guidance: https://numpy.org/devdocs/release/1.20.0-notes.html#deprecations\n",
      "  eps=np.finfo(np.float).eps, positive=False):\n",
      "C:\\ProgramData\\Anaconda3\\lib\\site-packages\\sklearn\\linear_model\\least_angle.py:1362: DeprecationWarning: `np.float` is a deprecated alias for the builtin `float`. To silence this warning, use `float` by itself. Doing this will not modify any behavior and is safe. If you specifically wanted the numpy scalar type, use `np.float64` here.\n",
      "Deprecated in NumPy 1.20; for more details and guidance: https://numpy.org/devdocs/release/1.20.0-notes.html#deprecations\n",
      "  max_n_alphas=1000, n_jobs=None, eps=np.finfo(np.float).eps,\n",
      "C:\\ProgramData\\Anaconda3\\lib\\site-packages\\sklearn\\linear_model\\least_angle.py:1602: DeprecationWarning: `np.float` is a deprecated alias for the builtin `float`. To silence this warning, use `float` by itself. Doing this will not modify any behavior and is safe. If you specifically wanted the numpy scalar type, use `np.float64` here.\n",
      "Deprecated in NumPy 1.20; for more details and guidance: https://numpy.org/devdocs/release/1.20.0-notes.html#deprecations\n",
      "  max_n_alphas=1000, n_jobs=None, eps=np.finfo(np.float).eps,\n",
      "C:\\ProgramData\\Anaconda3\\lib\\site-packages\\sklearn\\linear_model\\least_angle.py:1738: DeprecationWarning: `np.float` is a deprecated alias for the builtin `float`. To silence this warning, use `float` by itself. Doing this will not modify any behavior and is safe. If you specifically wanted the numpy scalar type, use `np.float64` here.\n",
      "Deprecated in NumPy 1.20; for more details and guidance: https://numpy.org/devdocs/release/1.20.0-notes.html#deprecations\n",
      "  eps=np.finfo(np.float).eps, copy_X=True, positive=False):\n"
     ]
    }
   ],
   "source": [
    "# ML Packages\n",
    "from sklearn.feature_extraction.text import CountVectorizer,TfidfVectorizer\n",
    "from sklearn.metrics import accuracy_score \n",
    "from sklearn.base import TransformerMixin \n",
    "from sklearn.pipeline import Pipeline\n",
    "from sklearn.svm import LinearSVC"
   ]
  },
  {
   "cell_type": "code",
   "execution_count": null,
   "metadata": {},
   "outputs": [],
   "source": [
    "#Custom transformer using spaCy \n",
    "class predictors(TransformerMixin):\n",
    "    def transform(self, X, **transform_params):\n",
    "        return [clean_text(text) for text in X]\n",
    "    def fit(self, X, y, **fit_params):\n",
    "        return self\n",
    "    def get_params(self, deep=True):\n",
    "        return {}\n",
    "\n",
    "# Basic function to clean the text \n",
    "def clean_text(text):     \n",
    "    return text.strip().lower()"
   ]
  },
  {
   "cell_type": "code",
   "execution_count": 15,
   "metadata": {},
   "outputs": [],
   "source": [
    "from spacy.tokenizer import Tokenizer\n",
    "# Vectorization\n",
    "vectorizer = CountVectorizer(tokenizer = spacy_tokenizer, ngram_range=(1,2)) \n",
    "classifier = LinearSVC()"
   ]
  },
  {
   "cell_type": "code",
   "execution_count": 16,
   "metadata": {},
   "outputs": [],
   "source": [
    "# Using Tfidf\n",
    "tfvectorizer = TfidfVectorizer(tokenizer = spacy_tokenizer,ngram_range=(1,2))"
   ]
  },
  {
   "cell_type": "code",
   "execution_count": 17,
   "metadata": {},
   "outputs": [],
   "source": [
    "# Splitting Data Set\n",
    "from sklearn.model_selection import train_test_split\n",
    "# Features and Labels\n",
    "X = df1['News'].astype(str)\n",
    "df1['News_sentiment'].replace(['Positive', 'Negative','Neutral'],\n",
    "                        [0,1,2], inplace=True)\n",
    "ylabels = df1['News_sentiment']"
   ]
  },
  {
   "cell_type": "code",
   "execution_count": 20,
   "metadata": {},
   "outputs": [
    {
     "data": {
      "text/plain": [
       "<bound method NDFrame.describe of 6       ICICI Bank has hiked its marginal cost of lend...\n",
       "932     Reserve Bank of India on Monday clarified that...\n",
       "439     NEW DELHI: In a surprise move, the Monetary Po...\n",
       "1313    Volkswagen AG expects the protracted shortage ...\n",
       "2042             \"sEzxj hide\\n      \"_2sdAr contentwrappe\n",
       "                              ...                        \n",
       "4426             \"sEzxj hide\\n      \"_2sdAr contentwrappe\n",
       "466     Elon Musk has secured $7.14 billion in funding...\n",
       "3092    The Hindi version of RRR, amongst the biggest ...\n",
       "3772    Tata Group chairman N Chandrasekaran and his f...\n",
       "860     India's bilateral trade with all the six membe...\n",
       "Name: News, Length: 3262, dtype: object>"
      ]
     },
     "execution_count": 20,
     "metadata": {},
     "output_type": "execute_result"
    }
   ],
   "source": [
    "X_train, X_test, y_train, y_test = train_test_split(X, ylabels, test_size=0.3, random_state=42)\n",
    "\n",
    "X_train.describe\n",
    "#y_train.describe\n",
    "#len(X_train)"
   ]
  },
  {
   "cell_type": "code",
   "execution_count": 21,
   "metadata": {},
   "outputs": [],
   "source": [
    "## Count Vectorizer Method \n",
    "from sklearn.feature_extraction.text import CountVectorizer\n",
    "\n",
    "cv = CountVectorizer()\n",
    "\n",
    "ctmTr = cv.fit_transform(X_train)\n",
    "\n",
    "X_test_dtm = cv.transform(X_test)"
   ]
  },
  {
   "cell_type": "code",
   "execution_count": 22,
   "metadata": {},
   "outputs": [],
   "source": [
    "from sklearn.linear_model import LogisticRegression\n",
    "\n",
    "from sklearn.metrics import accuracy_score\n",
    "\n",
    "model = LogisticRegression()\n",
    "\n",
    "model.fit(ctmTr, y_train)\n",
    "\n",
    "y_pred_class = model.predict(X_test_dtm)"
   ]
  },
  {
   "cell_type": "code",
   "execution_count": 23,
   "metadata": {},
   "outputs": [
    {
     "data": {
      "text/plain": [
       "0.8683834048640916"
      ]
     },
     "execution_count": 23,
     "metadata": {},
     "output_type": "execute_result"
    }
   ],
   "source": [
    "accuracy_score(y_test, y_pred_class)"
   ]
  },
  {
   "cell_type": "code",
   "execution_count": 24,
   "metadata": {},
   "outputs": [],
   "source": [
    "## Count Vectorizer Method \n",
    "from sklearn.feature_extraction.text import TfidfVectorizer\n",
    "\n",
    "cv_tfidf = TfidfVectorizer()\n",
    "\n",
    "ctmTr_tfidf = cv_tfidf.fit_transform(X_train)\n",
    "\n",
    "X_test_dtm_tfidf = cv_tfidf.transform(X_test)"
   ]
  },
  {
   "cell_type": "code",
   "execution_count": 25,
   "metadata": {},
   "outputs": [],
   "source": [
    "from sklearn.linear_model import LogisticRegression\n",
    "\n",
    "from sklearn.metrics import accuracy_score\n",
    "\n",
    "model = LogisticRegression()\n",
    "\n",
    "model.fit(ctmTr_tfidf, y_train)\n",
    "\n",
    "y_pred_class = model.predict(X_test_dtm_tfidf)"
   ]
  },
  {
   "cell_type": "code",
   "execution_count": 26,
   "metadata": {},
   "outputs": [
    {
     "data": {
      "text/plain": [
       "0.8276108726752504"
      ]
     },
     "execution_count": 26,
     "metadata": {},
     "output_type": "execute_result"
    }
   ],
   "source": [
    "accuracy_score(y_test, y_pred_class)"
   ]
  },
  {
   "cell_type": "code",
   "execution_count": 27,
   "metadata": {},
   "outputs": [
    {
     "ename": "NameError",
     "evalue": "name 'predictors' is not defined",
     "output_type": "error",
     "traceback": [
      "\u001b[1;31m---------------------------------------------------------------------------\u001b[0m",
      "\u001b[1;31mNameError\u001b[0m                                 Traceback (most recent call last)",
      "\u001b[1;32m<ipython-input-27-5651cdb261d5>\u001b[0m in \u001b[0;36m<module>\u001b[1;34m\u001b[0m\n\u001b[0;32m      1\u001b[0m \u001b[1;31m# Create the  pipeline to clean, tokenize, vectorize, and classify using\"Count Vectorizor\"\u001b[0m\u001b[1;33m\u001b[0m\u001b[1;33m\u001b[0m\u001b[1;33m\u001b[0m\u001b[0m\n\u001b[1;32m----> 2\u001b[1;33m pipe_countvect = Pipeline([(\"cleaner\", predictors()),\n\u001b[0m\u001b[0;32m      3\u001b[0m                  \u001b[1;33m(\u001b[0m\u001b[1;34m'vectorizer'\u001b[0m\u001b[1;33m,\u001b[0m \u001b[0mtfvectorizer\u001b[0m\u001b[1;33m)\u001b[0m\u001b[1;33m,\u001b[0m\u001b[1;33m\u001b[0m\u001b[1;33m\u001b[0m\u001b[0m\n\u001b[0;32m      4\u001b[0m                  ('classifier', classifier)])\n\u001b[0;32m      5\u001b[0m \u001b[1;33m\u001b[0m\u001b[0m\n",
      "\u001b[1;31mNameError\u001b[0m: name 'predictors' is not defined"
     ]
    }
   ],
   "source": [
    "# Create the  pipeline to clean, tokenize, vectorize, and classify using\"Count Vectorizor\"\n",
    "pipe_countvect = Pipeline([(\"cleaner\", predictors()),\n",
    "                 ('vectorizer', tfvectorizer),\n",
    "                 ('classifier', classifier)])\n",
    "\n",
    "# Fit our data\n",
    "pipe_countvect.fit(X_train,y_train)\n",
    "\n",
    "# Predicting with a test dataset\n",
    "sample_prediction = pipe_countvect.predict(X_test)\n",
    "\n",
    "# Prediction Results\n",
    "# 0 = Positive review\n",
    "# 1 = Negative review\n",
    "for (sample,pred) in zip(X_test,sample_prediction):\n",
    "    print(sample,\"Prediction=>\",pred)\n",
    "    \n",
    "# Accuracy\n",
    "print(\"Accuracy: \",pipe_countvect.score(X_test,y_test))\n",
    "print(\"Accuracy: \",pipe_countvect.score(X_test,sample_prediction))\n",
    "# Accuracy\n",
    "print(\"Accuracy: \",pipe_countvect.score(X_train,y_train))"
   ]
  },
  {
   "cell_type": "code",
   "execution_count": null,
   "metadata": {},
   "outputs": [],
   "source": [
    "# Testing --- Neutral(2) to Positive(0)\n",
    "sample_test =[\"5 super-premium credit cards offering great deals\" ,\n",
    " \"Rakesh Jhunjhunwala remains bullish on India growth story\",\n",
    "\"Attractive valuation strong earnings visibility to aid stock re-rating\"]\n",
    "pipe_countvect.predict(sample_test)"
   ]
  },
  {
   "cell_type": "code",
   "execution_count": null,
   "metadata": {},
   "outputs": [],
   "source": [
    "# Testing -- False Positive Cases \n",
    "                #Negative to Positive \n",
    "sample_neg =[\"Nirmala Sitharaman proposes faster resolution of bankrupt companies\", \n",
    "             #Neutral to Negative\n",
    "             \"January fuel sales hit by COVID curbs: Preliminary data\",\n",
    "             # Neutral to Positive\n",
    "            \"Government to borrow Rs 11.6 lakh crore in FY23 to meet expenditure requirement\",\n",
    "             # Positive to Positive \n",
    "            \"Adani Ports Q3 Result Preview: Profit may drop up to 30%\",\n",
    "             #Neutral to positive\n",
    "            \"Froth cleanup underway on Dalal Street; brace for year-long volatility\",\n",
    "             #Neutral to Positive\n",
    "            \"Hyundai India's total sales dip 11% in January\",\n",
    "             #Neutral to Negative\n",
    "            \" Data story: India logs 167,059 cases over 1,000 deaths added after 59 days\",\n",
    "             #Negative to Negative\n",
    "            \"Vaccines induce robust protection against severe disease from Omicron\",\n",
    "             # Positive to Positive\n",
    "            \"Covid-19 curbs eased for Mumbai, 10 districts as infections decline\",\n",
    "             #Negative to Psoitive\n",
    "            \"Nobody losing jobs due to non-vaccination, Centre tells SC\"]\n",
    "pipe_countvect.predict(sample_neg)"
   ]
  },
  {
   "cell_type": "code",
   "execution_count": null,
   "metadata": {},
   "outputs": [],
   "source": []
  }
 ],
 "metadata": {
  "kernelspec": {
   "display_name": "Python 3 (ipykernel)",
   "language": "python",
   "name": "python3"
  },
  "language_info": {
   "codemirror_mode": {
    "name": "ipython",
    "version": 3
   },
   "file_extension": ".py",
   "mimetype": "text/x-python",
   "name": "python",
   "nbconvert_exporter": "python",
   "pygments_lexer": "ipython3",
   "version": "3.9.12"
  }
 },
 "nbformat": 4,
 "nbformat_minor": 2
}
